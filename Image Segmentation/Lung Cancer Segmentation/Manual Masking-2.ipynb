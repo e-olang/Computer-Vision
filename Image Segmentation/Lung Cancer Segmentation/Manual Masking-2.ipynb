{
 "cells": [
  {
   "cell_type": "code",
   "execution_count": 1,
   "metadata": {},
   "outputs": [],
   "source": [
    "import numpy as np\n",
    "import cv2  # OpenCV for image manipulation (optional)\n",
    "import pandas as pd\n",
    "import matplotlib.pyplot as plt"
   ]
  },
  {
   "cell_type": "code",
   "execution_count": 3,
   "metadata": {},
   "outputs": [
    {
     "data": {
      "text/html": [
       "<div>\n",
       "<style scoped>\n",
       "    .dataframe tbody tr th:only-of-type {\n",
       "        vertical-align: middle;\n",
       "    }\n",
       "\n",
       "    .dataframe tbody tr th {\n",
       "        vertical-align: top;\n",
       "    }\n",
       "\n",
       "    .dataframe thead th {\n",
       "        text-align: right;\n",
       "    }\n",
       "</style>\n",
       "<table border=\"1\" class=\"dataframe\">\n",
       "  <thead>\n",
       "    <tr style=\"text-align: right;\">\n",
       "      <th></th>\n",
       "      <th>path</th>\n",
       "      <th>x1</th>\n",
       "      <th>y1</th>\n",
       "      <th>x2</th>\n",
       "      <th>y2</th>\n",
       "    </tr>\n",
       "  </thead>\n",
       "  <tbody>\n",
       "    <tr>\n",
       "      <th>0</th>\n",
       "      <td>141.png</td>\n",
       "      <td>341</td>\n",
       "      <td>213</td>\n",
       "      <td>357</td>\n",
       "      <td>228</td>\n",
       "    </tr>\n",
       "    <tr>\n",
       "      <th>1</th>\n",
       "      <td>67.png</td>\n",
       "      <td>221</td>\n",
       "      <td>207</td>\n",
       "      <td>252</td>\n",
       "      <td>228</td>\n",
       "    </tr>\n",
       "    <tr>\n",
       "      <th>2</th>\n",
       "      <td>139.png</td>\n",
       "      <td>331</td>\n",
       "      <td>146</td>\n",
       "      <td>375</td>\n",
       "      <td>211</td>\n",
       "    </tr>\n",
       "    <tr>\n",
       "      <th>3</th>\n",
       "      <td>163.png</td>\n",
       "      <td>380</td>\n",
       "      <td>342</td>\n",
       "      <td>395</td>\n",
       "      <td>357</td>\n",
       "    </tr>\n",
       "    <tr>\n",
       "      <th>4</th>\n",
       "      <td>126.png</td>\n",
       "      <td>348</td>\n",
       "      <td>263</td>\n",
       "      <td>365</td>\n",
       "      <td>277</td>\n",
       "    </tr>\n",
       "  </tbody>\n",
       "</table>\n",
       "</div>"
      ],
      "text/plain": [
       "      path   x1   y1   x2   y2\n",
       "0  141.png  341  213  357  228\n",
       "1   67.png  221  207  252  228\n",
       "2  139.png  331  146  375  211\n",
       "3  163.png  380  342  395  357\n",
       "4  126.png  348  263  365  277"
      ]
     },
     "execution_count": 3,
     "metadata": {},
     "output_type": "execute_result"
    }
   ],
   "source": [
    "df = pd.read_csv('masks_cordinates.csv')\n",
    "df.head()"
   ]
  },
  {
   "cell_type": "code",
   "execution_count": 4,
   "metadata": {},
   "outputs": [
    {
     "data": {
      "text/plain": [
       "['141.png', '67.png', '139.png', '163.png', '126.png']"
      ]
     },
     "execution_count": 4,
     "metadata": {},
     "output_type": "execute_result"
    }
   ],
   "source": [
    "paths = df['path'].tolist()\n",
    "x1s = df['x1'].tolist()\n",
    "y1s = df['y1'].tolist()\n",
    "x2s = df['x2'].tolist()\n",
    "y2s = df['y2'].tolist()\n",
    "\n",
    "paths[:5]"
   ]
  },
  {
   "cell_type": "code",
   "execution_count": 9,
   "metadata": {},
   "outputs": [
    {
     "name": "stdout",
     "output_type": "stream",
     "text": [
      "Segments\\141.png\n"
     ]
    }
   ],
   "source": [
    "print('Segments\\\\' + str(paths[0]))"
   ]
  },
  {
   "cell_type": "code",
   "execution_count": 10,
   "metadata": {},
   "outputs": [],
   "source": [
    "s_image = cv2.imread('Segments/' + str(paths[0]))"
   ]
  },
  {
   "cell_type": "code",
   "execution_count": 11,
   "metadata": {},
   "outputs": [
    {
     "name": "stdout",
     "output_type": "stream",
     "text": [
      "512 512\n"
     ]
    }
   ],
   "source": [
    "# print height and width of image\n",
    "s_height, s_width, _ = s_image.shape\n",
    "print(s_height, s_width)"
   ]
  },
  {
   "cell_type": "markdown",
   "metadata": {},
   "source": [
    "------"
   ]
  },
  {
   "cell_type": "code",
   "execution_count": 12,
   "metadata": {},
   "outputs": [],
   "source": [
    "def mask_show(image_path, x1, y1, x2, y2):\n",
    "    image = cv2.imread('Segments/' + str(image_path))\n",
    "    height, width = image.shape[:2]\n",
    "    binary_mask = np.zeros((height, width), dtype=np.uint8)\n",
    "    binary_mask[y1:y2, x1:x2] = 1\n",
    "\n",
    "    # Display the binary mask using Matplotlib\n",
    "    plt.imshow(binary_mask, cmap='gray')  # Use 'gray' colormap for binary images\n",
    "    plt.title('Binary Mask')\n",
    "    plt.axis('off')  # Turn off axis labels and ticks\n",
    "    plt.show()\n",
    "\n",
    "    return binary_mask"
   ]
  },
  {
   "cell_type": "code",
   "execution_count": 13,
   "metadata": {},
   "outputs": [
    {
     "data": {
      "image/png": "[encoded data removed]",
      "text/plain": [
       "<Figure size 640x480 with 1 Axes>"
      ]
     },
     "metadata": {},
     "output_type": "display_data"
    },
    {
     "data": {
      "text/plain": [
       "array([[0, 0, 0, ..., 0, 0, 0],\n",
       "       [0, 0, 0, ..., 0, 0, 0],\n",
       "       [0, 0, 0, ..., 0, 0, 0],\n",
       "       ...,\n",
       "       [0, 0, 0, ..., 0, 0, 0],\n",
       "       [0, 0, 0, ..., 0, 0, 0],\n",
       "       [0, 0, 0, ..., 0, 0, 0]], dtype=uint8)"
      ]
     },
     "execution_count": 13,
     "metadata": {},
     "output_type": "execute_result"
    }
   ],
   "source": [
    "image_path, x1, y1, x2, y2 = paths[4], x1s[4], y1s[4], x2s[4], y2s[4]\n",
    "\n",
    "mask_show(image_path, x1, y1, x2, y2)"
   ]
  },
  {
   "cell_type": "markdown",
   "metadata": {},
   "source": [
    "----"
   ]
  },
  {
   "cell_type": "code",
   "execution_count": 14,
   "metadata": {},
   "outputs": [],
   "source": [
    "def mask(image_path, x1, y1, x2, y2):\n",
    "    image = cv2.imread('Segments/' + str(image_path))\n",
    "    height, width = image.shape[:2]\n",
    "    binary_mask = np.zeros((height, width), dtype=np.uint8)\n",
    "    binary_mask[y1:y2, x1:x2] = 1\n",
    "\n",
    "    cv2.imwrite('Masks/' + str(image_path), binary_mask * 255)  # Scale by 255 to convert from [0, 1] to [0, 255]"
   ]
  },
  {
   "cell_type": "code",
   "execution_count": 15,
   "metadata": {},
   "outputs": [
    {
     "name": "stdout",
     "output_type": "stream",
     "text": [
      "Done\n"
     ]
    }
   ],
   "source": [
    "for image_path, x1, y1, x2, y2 in zip(paths, x1s, y1s, x2s, y2s):\n",
    "    mask(image_path, x1, y1, x2, y2)\n",
    "\n",
    "print('Done')"
   ]
  }
 ],
 "metadata": {
  "kernelspec": {
   "display_name": "seg",
   "language": "python",
   "name": "python3"
  },
  "language_info": {
   "codemirror_mode": {
    "name": "ipython",
    "version": 3
   },
   "file_extension": ".py",
   "mimetype": "text/x-python",
   "name": "python",
   "nbconvert_exporter": "python",
   "pygments_lexer": "ipython3",
   "version": "3.8.18"
  },
  "orig_nbformat": 4
 },
 "nbformat": 4,
 "nbformat_minor": 2
}
