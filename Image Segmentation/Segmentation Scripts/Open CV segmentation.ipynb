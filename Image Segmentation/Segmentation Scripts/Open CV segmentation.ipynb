{
 "cells": [
  {
   "cell_type": "code",
   "execution_count": 1,
   "metadata": {},
   "outputs": [],
   "source": [
    "import cv2\n",
    "import numpy as np\n",
    "from PIL import Image\n",
    "from PIL import ImageFilter, ImageDraw, ImageOps"
   ]
  },
  {
   "cell_type": "code",
   "execution_count": 3,
   "metadata": {},
   "outputs": [],
   "source": [
    "# Load the image\n",
    "image = cv2.imread('input_image.png')\n",
    "\n",
    "# Load the CT scan image\n",
    "#image = Image.open(\"sample_image.png\")"
   ]
  },
  {
   "cell_type": "markdown",
   "metadata": {},
   "source": [
    "### Options"
   ]
  },
  {
   "cell_type": "code",
   "execution_count": 3,
   "metadata": {},
   "outputs": [],
   "source": [
    "# Option 1: Color-Based Thresholding\n",
    "hsv = cv2.cvtColor(image, cv2.COLOR_BGR2HSV)\n",
    "lower_bound = np.array([0, 50, 50])  # Adjust for the color you want to mask\n",
    "upper_bound = np.array([10, 255, 255])\n",
    "mask = cv2.inRange(hsv, lower_bound, upper_bound)\n",
    "mask = mask.astype(np.uint8)"
   ]
  },
  {
   "cell_type": "code",
   "execution_count": null,
   "metadata": {},
   "outputs": [],
   "source": [
    "# Option 2: Contour Detection\n",
    "gray = cv2.cvtColor(image, cv2.COLOR_BGR2GRAY)\n",
    "ret, thresh = cv2.threshold(gray, 127, 255, cv2.THRESH_BINARY)\n",
    "contours, hierarchy = cv2.findContours(thresh, cv2.RETR_EXTERNAL, cv2.CHAIN_APPROX_SIMPLE)\n",
    "mask = np.zeros(image.shape, dtype=\"uint8\")\n",
    "cv2.drawContours(mask, contours, -1, 255, -1)"
   ]
  },
  {
   "cell_type": "code",
   "execution_count": null,
   "metadata": {},
   "outputs": [],
   "source": [
    "# Option 3: Manual Drawing (Uncomment and adapt as needed)\n",
    "# mask = np.zeros(image.shape, dtype=\"uint8\")\n",
    "# cv2.rectangle(mask, (x1, y1), (x2, y2), 255, -1)  # Example rectangle"
   ]
  },
  {
   "cell_type": "code",
   "execution_count": 4,
   "metadata": {},
   "outputs": [],
   "source": [
    "# Apply the mask\n",
    "masked_image = cv2.bitwise_and(image, image, mask=mask)\n",
    "\n",
    "# Display or save\n",
    "cv2.imshow(\"Mask\", mask)\n",
    "cv2.imshow(\"Masked Image\", masked_image)\n",
    "cv2.waitKey(0)\n",
    "cv2.destroyAllWindows()\n",
    "\n",
    "cv2.imwrite(\"masked_image.jpg\", masked_image)\n"
   ]
  },
  {
   "cell_type": "code",
   "execution_count": 11,
   "metadata": {},
   "outputs": [
    {
     "name": "stdout",
     "output_type": "stream",
     "text": [
      "(326, 465, 3)\n",
      "(326, 465, 3)\n"
     ]
    }
   ],
   "source": [
    "print(mask.shape)\n",
    "print(image.shape)"
   ]
  },
  {
   "cell_type": "markdown",
   "metadata": {},
   "source": [
    "### Contour Masking"
   ]
  },
  {
   "cell_type": "code",
   "execution_count": 4,
   "metadata": {},
   "outputs": [
    {
     "data": {
      "text/plain": [
       "True"
      ]
     },
     "execution_count": 4,
     "metadata": {},
     "output_type": "execute_result"
    }
   ],
   "source": [
    "import cv2\n",
    "\n",
    "# Read the binary image\n",
    "binary_image = cv2.imread('input_image.png', 0)\n",
    "\n",
    "# Find contours\n",
    "contours, hierarchy = cv2.findContours(binary_image, cv2.RETR_TREE, cv2.CHAIN_APPROX_SIMPLE)\n",
    "\n",
    "# Select the contour index you wish to keep (for demo purposes, take the largest one)\n",
    "max_index = max(enumerate([len(cnt) for cnt in contours]), key=lambda x: x[1])[0]\n",
    "selected_contour = contours[max_index]\n",
    "\n",
    "# Approximate the polygon formed by the contour points\n",
    "eps = 0.02 * cv2.arcLength(selected_contour, True)\n",
    "approx = cv2.approxPolyDP(selected_contour, eps, True)\n",
    "\n",
    "# Fill the approximated polygon with white to create a mask\n",
    "mask = np.zeros(binary_image.shape[:2], dtype=\"uint8\")\n",
    "cv2.drawContours(mask, [approx], -1, 255, -1)\n",
    "\n",
    "# Save the output mask\n",
    "cv2.imwrite('contour_mask.png', mask)"
   ]
  },
  {
   "cell_type": "code",
   "execution_count": null,
   "metadata": {},
   "outputs": [],
   "source": []
  },
  {
   "cell_type": "code",
   "execution_count": null,
   "metadata": {},
   "outputs": [],
   "source": []
  },
  {
   "cell_type": "code",
   "execution_count": null,
   "metadata": {},
   "outputs": [],
   "source": []
  },
  {
   "cell_type": "code",
   "execution_count": null,
   "metadata": {},
   "outputs": [],
   "source": []
  }
 ],
 "metadata": {
  "kernelspec": {
   "display_name": "cv",
   "language": "python",
   "name": "python3"
  },
  "language_info": {
   "codemirror_mode": {
    "name": "ipython",
    "version": 3
   },
   "file_extension": ".py",
   "mimetype": "text/x-python",
   "name": "python",
   "nbconvert_exporter": "python",
   "pygments_lexer": "ipython3",
   "version": "3.9.18"
  }
 },
 "nbformat": 4,
 "nbformat_minor": 2
}
