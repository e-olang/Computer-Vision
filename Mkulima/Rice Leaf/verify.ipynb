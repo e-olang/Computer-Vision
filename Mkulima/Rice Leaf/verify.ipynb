{
 "cells": [
  {
   "cell_type": "code",
   "execution_count": null,
   "metadata": {},
   "outputs": [],
   "source": []
  }
 ],
 "metadata": {
  "kernelspec": {
   "display_name": "Python 3.9.12 ('vission')",
   "language": "python",
   "name": "python3"
  },
  "language_info": {
   "name": "python",
   "version": "3.9.12"
  },
  "orig_nbformat": 4,
  "vscode": {
   "interpreter": {
    "hash": "49ace6de1c0f11e7f7f207cdafa24e779bf53b1ee97ab795d7e495e72b9e5728"
   }
  }
 },
 "nbformat": 4,
 "nbformat_minor": 2
}
