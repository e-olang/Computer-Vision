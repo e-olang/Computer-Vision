{
 "cells": [
  {
   "cell_type": "code",
   "execution_count": 1,
   "metadata": {},
   "outputs": [],
   "source": [
    "import cv2\n",
    "import numpy as np\n",
    "from tensorflow.keras.models import load_model"
   ]
  },
  {
   "cell_type": "code",
   "execution_count": 2,
   "metadata": {},
   "outputs": [],
   "source": [
    "model = load_model('sign_lang_10_epochs.h5')\n",
    "\n",
    "def getLetter(result):\n",
    "    classLabels = {0: 'A',\n",
    "                   1 : 'B',\n",
    "                   2 : 'C',\n",
    "                   3 : 'D',\n",
    "                   4 : 'E',\n",
    "                   5 : 'F',\n",
    "                   6 : 'G',\n",
    "                   7 : 'H',\n",
    "                   8 : 'I',\n",
    "                   9 : 'K',\n",
    "                   10 : 'L',\n",
    "                   11 : 'M',\n",
    "                   12 : 'N',\n",
    "                   13 : 'O',\n",
    "                   14 : 'P',\n",
    "                   15 : 'Q',\n",
    "                   16 : 'R',\n",
    "                   17 : 'S',\n",
    "                   18 : 'T',\n",
    "                   19 : 'U',\n",
    "                   20 : 'V',\n",
    "                   21 : 'W',\n",
    "                   22 : 'X',\n",
    "                   23 : 'Y'}\n",
    "\n",
    "    try:\n",
    "        res = int(result)\n",
    "        return classLabels[res]\n",
    "    except:\n",
    "        return \"Error\""
   ]
  },
  {
   "cell_type": "code",
   "execution_count": null,
   "metadata": {},
   "outputs": [],
   "source": [
    "cap = cv2.VideoCapture(1)\n",
    "\n",
    "while True:\n",
    "\n",
    "    ret, frame = cap.read()\n",
    "\n",
    "\n",
    "    # define roi: region of interest\n",
    "    roi = frame[100:400, 320:620]\n",
    "    cv2.imshow('roi', roi)\n",
    "    roi = cv2.cvtColor(roi, cv2.COLOR_BGR2GRAY)\n",
    "    roi = cv2.resize(roi, (28, 28), interpolation = cv2.INTER_AREA)\n",
    "\n",
    "    cv2.imshow('roi scaled and gray', roi)\n",
    "    copy = frame.copy()\n",
    "    cv2.rectangle(copy, (320, 100), (620, 400), (255, 0, 0), 5)\n",
    "\n",
    "    roi = roi.reshape(1, 28, 28, 1)\n",
    "\n",
    "    result = np.argmax(model.predict(roi, 1, verbose = 0)[0])\n",
    "    cv2.putText(copy, getLetter(result), (300, 100), cv2.FONT_HERSHEY_COMPLEX, 2, (0, 255, 0), 2)\n",
    "    cv2.imshow('frame', copy)\n",
    "\n",
    "    if cv2.waitKey(1) == 13: # 13 is the enter key\n",
    "        break\n",
    "\n",
    "cap.release()\n",
    "cv2.destroyAllWindows()"
   ]
  },
  {
   "cell_type": "markdown",
   "metadata": {},
   "source": [
    "-----"
   ]
  },
  {
   "cell_type": "markdown",
   "metadata": {},
   "source": [
    "## get Letter bug fix"
   ]
  },
  {
   "cell_type": "code",
   "execution_count": 3,
   "metadata": {},
   "outputs": [],
   "source": [
    "# read in image\n",
    "img1 = cv2.imread('test1.png')\n",
    "img2 = cv2.imread('test2.png')\n",
    "\n",
    "# convert to grayscale\n",
    "gray1 = cv2.cvtColor(img1, cv2.COLOR_BGR2GRAY)\n",
    "gray2 = cv2.cvtColor(img2, cv2.COLOR_BGR2GRAY)\n",
    "\n",
    "# resize to 28x28\n",
    "gray1 = cv2.resize(gray1, (28, 28), interpolation = cv2.INTER_AREA)\n",
    "gray2 = cv2.resize(gray2, (28, 28), interpolation = cv2.INTER_AREA)\n",
    "\n",
    "# reshape to 1x28x28x1\n",
    "gray1 = gray1.reshape(1, 28, 28, 1)\n",
    "gray2 = gray2.reshape(1, 28, 28, 1)\n",
    "\n",
    "# predict\n",
    "result1 = np.argmax(model.predict(gray1, 1, verbose = 0)[0])\n",
    "result2 = np.argmax(model.predict(gray2, 1, verbose = 0)[0])"
   ]
  },
  {
   "cell_type": "code",
   "execution_count": 4,
   "metadata": {},
   "outputs": [
    {
     "name": "stdout",
     "output_type": "stream",
     "text": [
      "C\n",
      "P\n"
     ]
    }
   ],
   "source": [
    "# print results\n",
    "print(getLetter(result1))\n",
    "print(getLetter(result2))"
   ]
  }
 ],
 "metadata": {
  "kernelspec": {
   "display_name": "Python 3",
   "language": "python",
   "name": "python3"
  },
  "language_info": {
   "codemirror_mode": {
    "name": "ipython",
    "version": 3
   },
   "file_extension": ".py",
   "mimetype": "text/x-python",
   "name": "python",
   "nbconvert_exporter": "python",
   "pygments_lexer": "ipython3",
   "version": "3.9.13"
  },
  "vscode": {
   "interpreter": {
    "hash": "49ace6de1c0f11e7f7f207cdafa24e779bf53b1ee97ab795d7e495e72b9e5728"
   }
  }
 },
 "nbformat": 4,
 "nbformat_minor": 2
}
