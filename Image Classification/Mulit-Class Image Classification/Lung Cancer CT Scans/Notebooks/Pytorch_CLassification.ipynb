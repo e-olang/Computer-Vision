{
  "cells": [
    {
      "cell_type": "code",
      "execution_count": 2,
      "metadata": {
        "id": "tdDJaFKaR3Zo"
      },
      "outputs": [],
      "source": [
        "import torch\n",
        "import torchvision\n",
        "import torchvision.transforms as transforms\n",
        "from torchvision import models\n",
        "import torch.nn as nn\n",
        "import torch.optim as optim"
      ]
    },
    {
      "cell_type": "code",
      "execution_count": 3,
      "metadata": {
        "colab": {
          "base_uri": "https://localhost:8080/"
        },
        "id": "ii4mavaqSJ2v",
        "outputId": "a01474ed-40e4-45e1-ff88-e355c2c5b318"
      },
      "outputs": [
        {
          "name": "stdout",
          "output_type": "stream",
          "text": [
            " \u001b[0m\u001b[01;34mCLFData\u001b[0m/   model57%.ckpt   \u001b[01;34mModels\u001b[0m/   \u001b[01;34mOLD\u001b[0m/  'Pytorch CLassification.ipynb'\n"
          ]
        }
      ],
      "source": [
        "%ls"
      ]
    },
    {
      "cell_type": "code",
      "execution_count": 3,
      "metadata": {
        "id": "qtItY5HQSH7o"
      },
      "outputs": [],
      "source": [
        "# Set the paths to the train and test data folders\n",
        "train_data_path = 'CLFData/train'\n",
        "test_data_path = 'CLFData/test'"
      ]
    },
    {
      "cell_type": "code",
      "execution_count": 5,
      "metadata": {
        "id": "WAXZnMkeSS7D"
      },
      "outputs": [],
      "source": [
        "# Define transformations for data augmentation and normalization\n",
        "transform = transforms.Compose([\n",
        "    transforms.Resize((224, 224)),\n",
        "    transforms.RandomHorizontalFlip(),\n",
        "    transforms.ToTensor(),\n",
        "    transforms.Normalize(mean=[0.485, 0.456, 0.406], std=[0.229, 0.224, 0.225])\n",
        "])"
      ]
    },
    {
      "cell_type": "code",
      "execution_count": 4,
      "metadata": {
        "id": "f-rMnExUogDe"
      },
      "outputs": [],
      "source": [
        "# Augmentation and normalization for training\n",
        "train_transforms = transforms.Compose([\n",
        "    transforms.Resize((256, 256)),\n",
        "    transforms.RandomHorizontalFlip(),  # Randomly flip the images on the horizontal\n",
        "    #transforms.RandomRotation(10),       # Randomly rotate the image by ±10 degrees\n",
        "    #transforms.RandomResizedCrop(224),   # Randomly crop the image, then resize it to 224x224\n",
        "    transforms.ColorJitter(brightness=0.2, contrast=0.2), # Slight changes in brightness/contrast\n",
        "    transforms.ToTensor(),\n",
        "    transforms.Normalize([0.485, 0.456, 0.406], [0.229, 0.224, 0.225])\n",
        "])\n",
        "\n",
        "# Normalization for testing (no augmentation here)\n",
        "test_transforms = transforms.Compose([\n",
        "    transforms.Resize((256, 256)),\n",
        "    transforms.CenterCrop(224),\n",
        "    transforms.ToTensor(),\n",
        "    transforms.Normalize([0.485, 0.456, 0.406], [0.229, 0.224, 0.225])\n",
        "])"
      ]
    },
    {
      "cell_type": "code",
      "execution_count": 5,
      "metadata": {
        "colab": {
          "base_uri": "https://localhost:8080/"
        },
        "id": "BEdDYkJ7SUF4",
        "outputId": "fee49876-8388-4e53-b906-2f94932e2120"
      },
      "outputs": [
        {
          "name": "stdout",
          "output_type": "stream",
          "text": [
            "Tesla T4\n",
            "(7, 5)\n"
          ]
        }
      ],
      "source": [
        "device = torch.device(\"cuda\" if torch.cuda.is_available() else \"cpu\")\n",
        "print(torch.cuda.get_device_name(device))\n",
        "print(torch.cuda.get_device_capability(device))"
      ]
    },
    {
      "cell_type": "code",
      "execution_count": 6,
      "metadata": {
        "id": "mJEJC-BNSUCf"
      },
      "outputs": [],
      "source": [
        "# Load the datasets\n",
        "train_dataset = torchvision.datasets.ImageFolder(train_data_path, transform=train_transforms)\n",
        "test_dataset = torchvision.datasets.ImageFolder(test_data_path, transform=test_transforms)\n",
        "\n",
        "# Create data loaders\n",
        "train_loader = torch.utils.data.DataLoader(train_dataset, batch_size=32, shuffle=True)\n",
        "test_loader = torch.utils.data.DataLoader(test_dataset, batch_size=32, shuffle=False)"
      ]
    },
    {
      "cell_type": "code",
      "execution_count": 7,
      "metadata": {
        "colab": {
          "base_uri": "https://localhost:8080/"
        },
        "id": "D34HaUW0ebCy",
        "outputId": "4f601d08-014d-4c80-cdf5-c568c05c6f39"
      },
      "outputs": [
        {
          "name": "stdout",
          "output_type": "stream",
          "text": [
            "Number of training images: 611\n",
            "Number of testing images: 315\n"
          ]
        }
      ],
      "source": [
        "# Get the number of images\n",
        "num_train_images = len(train_dataset)\n",
        "num_test_images = len(test_dataset)\n",
        "\n",
        "print(f'Number of training images: {num_train_images}')\n",
        "print(f'Number of testing images: {num_test_images}')"
      ]
    },
    {
      "cell_type": "code",
      "execution_count": 8,
      "metadata": {
        "colab": {
          "base_uri": "https://localhost:8080/"
        },
        "id": "3rHapC_LXahG",
        "outputId": "abca84cd-16c9-494a-e1fe-29f6e82de750"
      },
      "outputs": [
        {
          "name": "stderr",
          "output_type": "stream",
          "text": [
            "/usr/local/lib/python3.10/dist-packages/torchvision/models/_utils.py:208: UserWarning: The parameter 'pretrained' is deprecated since 0.13 and may be removed in the future, please use 'weights' instead.\n",
            "  warnings.warn(\n",
            "/usr/local/lib/python3.10/dist-packages/torchvision/models/_utils.py:223: UserWarning: Arguments other than a weight enum or `None` for 'weights' are deprecated since 0.13 and may be removed in the future. The current behavior is equivalent to passing `weights=ResNet152_Weights.IMAGENET1K_V1`. You can also use `weights=ResNet152_Weights.DEFAULT` to get the most up-to-date weights.\n",
            "  warnings.warn(msg)\n"
          ]
        }
      ],
      "source": [
        "# Load a pre-trained model and modify it\n",
        "model = models.resnet152(pretrained=True)\n",
        "num_ftrs = model.fc.in_features\n",
        "model.fc = nn.Linear(num_ftrs, 4)  # Assuming 4 classes\n",
        "model = model.to(device)\n",
        "\n",
        "# Loss and optimizer\n",
        "criterion = nn.CrossEntropyLoss()\n",
        "optimizer = optim.Adam(model.parameters(), lr=0.001)"
      ]
    },
    {
      "cell_type": "code",
      "execution_count": 9,
      "metadata": {
        "id": "34yIebMhXads"
      },
      "outputs": [],
      "source": [
        "# Loss and optimizer\n",
        "criterion = nn.CrossEntropyLoss()\n",
        "optimizer = optim.Adam(model.parameters(), lr=0.0001)"
      ]
    },
    {
      "cell_type": "code",
      "execution_count": 10,
      "metadata": {
        "colab": {
          "base_uri": "https://localhost:8080/"
        },
        "id": "_yRFTaKYXaaU",
        "outputId": "dfd2e794-9c48-482e-bebc-c53c2fca43fe"
      },
      "outputs": [
        {
          "name": "stdout",
          "output_type": "stream",
          "text": [
            "Epoch [1/20], Step [5/20], Loss: 0.7738\n",
            "Epoch [1/20], Step [10/20], Loss: 0.7189\n",
            "Epoch [1/20], Step [15/20], Loss: 0.9393\n",
            "Epoch [1/20], Step [20/20], Loss: 0.9703\n",
            "Epoch [2/20], Step [5/20], Loss: 0.2731\n",
            "Epoch [2/20], Step [10/20], Loss: 0.1234\n",
            "Epoch [2/20], Step [15/20], Loss: 0.1667\n",
            "Epoch [2/20], Step [20/20], Loss: 0.6329\n",
            "Epoch [3/20], Step [5/20], Loss: 0.5458\n",
            "Epoch [3/20], Step [10/20], Loss: 0.0747\n",
            "Epoch [3/20], Step [15/20], Loss: 0.0650\n",
            "Epoch [3/20], Step [20/20], Loss: 1.2898\n",
            "Epoch [4/20], Step [5/20], Loss: 0.0849\n",
            "Epoch [4/20], Step [10/20], Loss: 0.1209\n",
            "Epoch [4/20], Step [15/20], Loss: 0.0777\n",
            "Epoch [4/20], Step [20/20], Loss: 0.0723\n",
            "Epoch [5/20], Step [5/20], Loss: 0.0232\n",
            "Epoch [5/20], Step [10/20], Loss: 0.0113\n",
            "Epoch [5/20], Step [15/20], Loss: 0.0588\n",
            "Epoch [5/20], Step [20/20], Loss: 0.4345\n",
            "Epoch [6/20], Step [5/20], Loss: 0.0990\n",
            "Epoch [6/20], Step [10/20], Loss: 0.0721\n",
            "Epoch [6/20], Step [15/20], Loss: 0.0942\n",
            "Epoch [6/20], Step [20/20], Loss: 1.3518\n",
            "Epoch [7/20], Step [5/20], Loss: 0.1350\n",
            "Epoch [7/20], Step [10/20], Loss: 0.0438\n",
            "Epoch [7/20], Step [15/20], Loss: 0.0215\n",
            "Epoch [7/20], Step [20/20], Loss: 0.8383\n",
            "Epoch [8/20], Step [5/20], Loss: 0.0463\n",
            "Epoch [8/20], Step [10/20], Loss: 0.0888\n",
            "Epoch [8/20], Step [15/20], Loss: 0.0772\n",
            "Epoch [8/20], Step [20/20], Loss: 0.1421\n",
            "Epoch [9/20], Step [5/20], Loss: 0.0305\n",
            "Epoch [9/20], Step [10/20], Loss: 0.0502\n",
            "Epoch [9/20], Step [15/20], Loss: 0.0692\n",
            "Epoch [9/20], Step [20/20], Loss: 0.1603\n",
            "Epoch [10/20], Step [5/20], Loss: 0.0913\n",
            "Epoch [10/20], Step [10/20], Loss: 0.0246\n",
            "Epoch [10/20], Step [15/20], Loss: 0.0213\n",
            "Epoch [10/20], Step [20/20], Loss: 0.0362\n",
            "Epoch [11/20], Step [5/20], Loss: 0.0052\n",
            "Epoch [11/20], Step [10/20], Loss: 0.0117\n",
            "Epoch [11/20], Step [15/20], Loss: 0.0024\n",
            "Epoch [11/20], Step [20/20], Loss: 0.6608\n",
            "Epoch [12/20], Step [5/20], Loss: 0.0844\n",
            "Epoch [12/20], Step [10/20], Loss: 0.0297\n",
            "Epoch [12/20], Step [15/20], Loss: 0.0757\n",
            "Epoch [12/20], Step [20/20], Loss: 0.4555\n",
            "Epoch [13/20], Step [5/20], Loss: 0.1071\n",
            "Epoch [13/20], Step [10/20], Loss: 0.0661\n",
            "Epoch [13/20], Step [15/20], Loss: 0.0102\n",
            "Epoch [13/20], Step [20/20], Loss: 0.7523\n",
            "Epoch [14/20], Step [5/20], Loss: 0.1074\n",
            "Epoch [14/20], Step [10/20], Loss: 0.0917\n",
            "Epoch [14/20], Step [15/20], Loss: 0.0450\n",
            "Epoch [14/20], Step [20/20], Loss: 0.1302\n",
            "Epoch [15/20], Step [5/20], Loss: 0.1711\n",
            "Epoch [15/20], Step [10/20], Loss: 0.0858\n",
            "Epoch [15/20], Step [15/20], Loss: 0.0747\n",
            "Epoch [15/20], Step [20/20], Loss: 1.4340\n",
            "Epoch [16/20], Step [5/20], Loss: 0.7029\n",
            "Epoch [16/20], Step [10/20], Loss: 0.0287\n",
            "Epoch [16/20], Step [15/20], Loss: 0.1416\n",
            "Epoch [16/20], Step [20/20], Loss: 0.0396\n",
            "Epoch [17/20], Step [5/20], Loss: 0.0204\n",
            "Epoch [17/20], Step [10/20], Loss: 0.0416\n",
            "Epoch [17/20], Step [15/20], Loss: 0.0238\n",
            "Epoch [17/20], Step [20/20], Loss: 0.0561\n",
            "Epoch [18/20], Step [5/20], Loss: 0.0049\n",
            "Epoch [18/20], Step [10/20], Loss: 0.0042\n",
            "Epoch [18/20], Step [15/20], Loss: 0.0089\n",
            "Epoch [18/20], Step [20/20], Loss: 1.9508\n",
            "Epoch [19/20], Step [5/20], Loss: 0.1616\n",
            "Epoch [19/20], Step [10/20], Loss: 0.0143\n",
            "Epoch [19/20], Step [15/20], Loss: 0.0430\n",
            "Epoch [19/20], Step [20/20], Loss: 0.5672\n",
            "Epoch [20/20], Step [5/20], Loss: 0.1301\n",
            "Epoch [20/20], Step [10/20], Loss: 0.0641\n",
            "Epoch [20/20], Step [15/20], Loss: 0.0397\n",
            "Epoch [20/20], Step [20/20], Loss: 1.5759\n"
          ]
        }
      ],
      "source": [
        "# Training the model\n",
        "num_epochs = 20\n",
        "for epoch in range(num_epochs):\n",
        "    for i, (images, labels) in enumerate(train_loader):\n",
        "        images = images.to(device)\n",
        "        labels = labels.to(device)\n",
        "\n",
        "        # Forward pass\n",
        "        outputs = model(images)\n",
        "        loss = criterion(outputs, labels)\n",
        "\n",
        "        # Backward and optimize\n",
        "        optimizer.zero_grad()\n",
        "        loss.backward()\n",
        "        optimizer.step()\n",
        "        '''\n",
        "        if (i+1) % 100 == 0:\n",
        "            print(f'Epoch [{epoch+1}/{num_epochs}], Step [{i+1}/{len(train_loader)}], Loss: {loss.item():.4f}')\n",
        "        '''\n",
        "        if (i+1) % 5 == 0:  # Adjust this value as needed\n",
        "            print(f'Epoch [{epoch+1}/{num_epochs}], Step [{i+1}/{len(train_loader)}], Loss: {loss.item():.4f}')\n"
      ]
    },
    {
      "cell_type": "code",
      "execution_count": 11,
      "metadata": {
        "colab": {
          "base_uri": "https://localhost:8080/"
        },
        "id": "6RHVuS4uXaW6",
        "outputId": "e256b74b-6ee3-4ea9-b9c6-b05305bd3458"
      },
      "outputs": [
        {
          "name": "stdout",
          "output_type": "stream",
          "text": [
            "Accuracy of the model on the test images: 69.52380952380952%\n"
          ]
        }
      ],
      "source": [
        "# Testing the model\n",
        "model.eval()\n",
        "with torch.no_grad():\n",
        "    correct = 0\n",
        "    total = 0\n",
        "    for images, labels in test_loader:\n",
        "        images = images.to(device)\n",
        "        labels = labels.to(device)\n",
        "        outputs = model(images)\n",
        "        _, predicted = torch.max(outputs.data, 1)\n",
        "        total += labels.size(0)\n",
        "        correct += (predicted == labels).sum().item()\n",
        "\n",
        "    print(f'Accuracy of the model on the test images: {100 * correct / total}%')"
      ]
    },
    {
      "cell_type": "code",
      "execution_count": 12,
      "metadata": {
        "id": "P8x2l5jfXaTi"
      },
      "outputs": [],
      "source": [
        "# Save the model checkpoint\n",
        "torch.save(model.state_dict(), 'Models/model69%.ckpt')"
      ]
    },
    {
      "cell_type": "markdown",
      "metadata": {
        "id": "J-tflYP2Zp80"
      },
      "source": [
        "-----\n",
        "\n",
        "### Usage"
      ]
    },
    {
      "cell_type": "code",
      "execution_count": null,
      "metadata": {
        "id": "ws5PmKdtXaP5"
      },
      "outputs": [],
      "source": [
        "# Define the model architecture (should be the same as used during training)\n",
        "model = models.resnet152(pretrained=False)\n",
        "num_ftrs = model.fc.in_features\n",
        "model.fc = nn.Linear(num_ftrs, 4)  # Assuming 4 classes\n",
        "\n",
        "# Load the saved weights\n",
        "model.load_state_dict(torch.load('Models/model69%.ckpt'))\n",
        "model = model.to(device)\n",
        "model.eval()  # Set the model to evaluation mode"
      ]
    },
    {
      "cell_type": "code",
      "execution_count": 27,
      "metadata": {
        "id": "qfddisVV3MF6"
      },
      "outputs": [],
      "source": [
        "imgs = [\n",
        "    'CLFData/valid/squamous cell carcinoma/000111.png',\n",
        "    'CLFData/valid/large cell carcinoma/000109.png',\n",
        "    'CLFData/valid/adenocarcinoma/000110 (7).png',\n",
        "    'CLFData/valid/normal/7.png'\n",
        "\n",
        "]"
      ]
    },
    {
      "cell_type": "code",
      "execution_count": 30,
      "metadata": {
        "id": "GDsfd2OSSTvO"
      },
      "outputs": [],
      "source": [
        "from PIL import Image\n",
        "\n",
        "# Function to preprocess the image\n",
        "def preprocess_image(image_path):\n",
        "    transform = transforms.Compose([\n",
        "        transforms.Resize((256, 256)),\n",
        "        transforms.ToTensor(),\n",
        "        transforms.Normalize(mean=[0.485, 0.456, 0.406], std=[0.229, 0.224, 0.225]),\n",
        "    ])\n",
        "\n",
        "    image = Image.open(image_path).convert('RGB')  # Convert to RGB (drops alpha channel)\n",
        "    image = transform(image).unsqueeze(0)\n",
        "    return image\n",
        "\n",
        "# Example usage\n",
        "image_path = imgs[2]\n",
        "image = preprocess_image(image_path)\n",
        "image = image.to(device)\n"
      ]
    },
    {
      "cell_type": "code",
      "execution_count": 31,
      "metadata": {
        "colab": {
          "base_uri": "https://localhost:8080/"
        },
        "id": "XZvPRpRsSTr1",
        "outputId": "dd3816c0-4c86-4793-8654-b7d514528b9f"
      },
      "outputs": [
        {
          "name": "stdout",
          "output_type": "stream",
          "text": [
            "Predicted class index: 1\n"
          ]
        }
      ],
      "source": [
        "# Model Inference\n",
        "with torch.no_grad():\n",
        "    outputs = model(image)\n",
        "    _, predicted = torch.max(outputs, 1)\n",
        "\n",
        "    # predicted is the index of the highest probability class\n",
        "    # You can map this index to your class names\n",
        "    print(f'Predicted class index: {predicted.item()}')\n"
      ]
    },
    {
      "cell_type": "code",
      "execution_count": 32,
      "metadata": {
        "colab": {
          "base_uri": "https://localhost:8080/"
        },
        "id": "n-MS86IbcEc-",
        "outputId": "20820150-d71e-4205-ba78-d059cf1a4eeb"
      },
      "outputs": [
        {
          "data": {
            "text/plain": [
              "tensor([[-0.0431,  2.4916, -4.0222,  0.8488]], device='cuda:0')"
            ]
          },
          "execution_count": 32,
          "metadata": {},
          "output_type": "execute_result"
        }
      ],
      "source": [
        "outputs"
      ]
    },
    {
      "cell_type": "code",
      "execution_count": 17,
      "metadata": {
        "colab": {
          "base_uri": "https://localhost:8080/"
        },
        "id": "0lVuk-zlSTos",
        "outputId": "b03e5b8b-64fc-4eca-9412-d6a0ca3073df"
      },
      "outputs": [
        {
          "name": "stdout",
          "output_type": "stream",
          "text": [
            "{'adenocarcinoma': 0, 'large cell carcinoma': 1, 'normal': 2, 'squamous cell carcinoma': 3}\n"
          ]
        }
      ],
      "source": [
        "# Print the mapping of class names to indices\n",
        "print(train_dataset.class_to_idx)"
      ]
    }
  ],
  "metadata": {
    "accelerator": "GPU",
    "colab": {
      "gpuType": "T4",
      "provenance": []
    },
    "kernelspec": {
      "display_name": "Python 3",
      "name": "python3"
    },
    "language_info": {
      "name": "python"
    }
  },
  "nbformat": 4,
  "nbformat_minor": 0
}
