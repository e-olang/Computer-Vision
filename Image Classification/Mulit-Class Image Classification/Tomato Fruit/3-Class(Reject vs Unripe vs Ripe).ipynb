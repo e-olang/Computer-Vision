{
  "nbformat": 4,
  "nbformat_minor": 0,
  "metadata": {
    "colab": {
      "provenance": [],
      "mount_file_id": "1g8VLtSeZmAoRTG1Yp5DKs4XOH7tTpLCY",
      "authorship_tag": "ABX9TyO/mnp+zJc2SqrKUmEf4DDF",
      "include_colab_link": true
    },
    "kernelspec": {
      "name": "python3",
      "display_name": "Python 3"
    },
    "language_info": {
      "name": "python"
    }
  },
  "cells": [
    {
      "cell_type": "markdown",
      "metadata": {
        "id": "view-in-github",
        "colab_type": "text"
      },
      "source": [
        "<a href=\"https://colab.research.google.com/github/e-olang/Computer-Vision/blob/main/Image%20Classification/Mulit-Class%20Image%20Classification/Tomato%20Fruit/3-Class(Reject%20vs%20Unripe%20vs%20Ripe).ipynb\" target=\"_parent\"><img src=\"https://colab.research.google.com/assets/colab-badge.svg\" alt=\"Open In Colab\"/></a>"
      ]
    },
    {
      "cell_type": "markdown",
      "source": [
        "### Msc.\n"
      ],
      "metadata": {
        "id": "xgmdCw4aAgll"
      }
    },
    {
      "cell_type": "code",
      "source": [
        "%cd /content/drive/MyDrive/Colab Notebooks/Tomato Fruit"
      ],
      "metadata": {
        "colab": {
          "base_uri": "https://localhost:8080/"
        },
        "id": "TxxaLeoGAi0C",
        "outputId": "94ec2568-af70-4817-f3c0-8299ad49c457"
      },
      "execution_count": 1,
      "outputs": [
        {
          "output_type": "stream",
          "name": "stdout",
          "text": [
            "/content/drive/MyDrive/Colab Notebooks/Tomato Fruit\n"
          ]
        }
      ]
    },
    {
      "cell_type": "code",
      "source": [
        "%ls"
      ],
      "metadata": {
        "colab": {
          "base_uri": "https://localhost:8080/"
        },
        "id": "lDKLUQGfAjKv",
        "outputId": "a9fe4128-a520-4948-dbae-8255c233ec68"
      },
      "execution_count": 7,
      "outputs": [
        {
          "output_type": "stream",
          "name": "stdout",
          "text": [
            "'Classification Pipeline (Relect vs Health vs Ripe).ipynb'   \u001b[0m\u001b[01;34mData\u001b[0m/   Data.zip\n"
          ]
        }
      ]
    },
    {
      "cell_type": "markdown",
      "source": [
        "### Data Prep:\n",
        "\n",
        "- Data Source: https://www.kaggle.com/datasets/nexuswho/tomatofruits\n",
        "-  Assumes you have already downloaded data from Kaggel as zip file."
      ],
      "metadata": {
        "id": "A6KDUo8UAPaH"
      }
    },
    {
      "cell_type": "code",
      "execution_count": 3,
      "metadata": {
        "id": "wQlcrCbi__ZX"
      },
      "outputs": [],
      "source": [
        "import os"
      ]
    },
    {
      "cell_type": "code",
      "source": [
        "os.mkdir('Data')"
      ],
      "metadata": {
        "id": "GuYSWeQ0BQfW"
      },
      "execution_count": 4,
      "outputs": []
    },
    {
      "cell_type": "code",
      "source": [
        "!unzip -q 'Data.zip' -d 'Data'"
      ],
      "metadata": {
        "id": "odx-f2dxBFAB"
      },
      "execution_count": 5,
      "outputs": []
    },
    {
      "cell_type": "markdown",
      "source": [
        "#### Data Splits"
      ],
      "metadata": {
        "id": "lKsZ8zkro0Ii"
      }
    },
    {
      "cell_type": "code",
      "source": [
        "from torch.utils.data import DataLoader, random_split, SubsetRandomSampler\n",
        "from torchvision.datasets import ImageFolder"
      ],
      "metadata": {
        "id": "JgxRfX2Disl0"
      },
      "execution_count": 8,
      "outputs": []
    },
    {
      "cell_type": "code",
      "source": [
        "# Define data directory and class labels\n",
        "data_dir = 'Data/Three Classes'\n",
        "class_names = os.listdir(data_dir)"
      ],
      "metadata": {
        "id": "0FqIOLn2o4ru"
      },
      "execution_count": 10,
      "outputs": []
    },
    {
      "cell_type": "code",
      "source": [
        "# Split the list of datasets (one per class)\n",
        "train_size, val_size, test_size = 0.7, 0.2, 0.1\n",
        "dataset_list = list(ImageFolder(data_dir))\n",
        "train_datasets, val_datasets, test_datasets = random_split(dataset_list, [train_size, val_size, test_size])"
      ],
      "metadata": {
        "id": "p4T6TQmWpUab"
      },
      "execution_count": 11,
      "outputs": []
    },
    {
      "cell_type": "code",
      "source": [
        "batch_size = 8\n",
        "\n",
        "# Create DataLoaders for each split\n",
        "train_loader = DataLoader(train_datasets, batch_size=batch_size, shuffle=True)\n",
        "val_loader = DataLoader(val_datasets, batch_size=batch_size, shuffle=False)\n",
        "test_loader = DataLoader(test_datasets, batch_size=batch_size, shuffle=False)"
      ],
      "metadata": {
        "id": "VojMXe_Mo9kn"
      },
      "execution_count": 12,
      "outputs": []
    },
    {
      "cell_type": "code",
      "source": [
        "print(len(train_loader))\n",
        "print(len(val_loader))\n",
        "print(len(test_loader))"
      ],
      "metadata": {
        "colab": {
          "base_uri": "https://localhost:8080/"
        },
        "id": "csVUgiv4p_Tv",
        "outputId": "17f376c8-8e1e-4fcd-dde3-571195c07644"
      },
      "execution_count": 14,
      "outputs": [
        {
          "output_type": "stream",
          "name": "stdout",
          "text": [
            "210\n",
            "60\n",
            "30\n"
          ]
        }
      ]
    },
    {
      "cell_type": "markdown",
      "source": [
        "### Modeling"
      ],
      "metadata": {
        "id": "Hid7hNVqDKgv"
      }
    },
    {
      "cell_type": "code",
      "source": [
        "# Libraries\n",
        "\n",
        "import torch\n",
        "import torchvision\n",
        "import torchvision.transforms as transforms\n",
        "import torch.nn as nn\n",
        "import torch.optim as optim"
      ],
      "metadata": {
        "id": "iFZEbIMUByQD"
      },
      "execution_count": 6,
      "outputs": []
    },
    {
      "cell_type": "markdown",
      "source": [
        "#### Data Loading and Augmentation"
      ],
      "metadata": {
        "id": "t5HDKJJDDSFw"
      }
    },
    {
      "cell_type": "code",
      "source": [],
      "metadata": {
        "id": "-dpbrltfDWuF"
      },
      "execution_count": null,
      "outputs": []
    }
  ]
}