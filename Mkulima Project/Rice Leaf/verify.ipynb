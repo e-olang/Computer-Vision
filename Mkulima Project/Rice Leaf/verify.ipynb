{
 "cells": [
  {
   "cell_type": "code",
   "execution_count": 4,
   "metadata": {},
   "outputs": [],
   "source": [
    "image_1 = '/Users/olang/Desktop/*/Projects/Computer-Vision/Ofline Assets/Profile.jpeg'\n",
    "image_2 = '/Users/olang/Desktop/*/Projects/Computer-Vision/Ofline Assets/2.png'"
   ]
  },
  {
   "cell_type": "code",
   "execution_count": 13,
   "metadata": {},
   "outputs": [],
   "source": [
    "from PIL import Image   # PIL is the Python Imaging Library\n",
    "import cv2             # OpenCV is the Open Source Computer Vision library"
   ]
  },
  {
   "cell_type": "code",
   "execution_count": 9,
   "metadata": {},
   "outputs": [],
   "source": [
    "# Basic algo idea:\n",
    "# 1. Read the images\n",
    "# 2. Resize the images to 256x256 pixels each\n",
    "# 3. Store pixel values of each image in a list\n",
    "# 4. Check if green pixel values exist in stored list\n",
    "# 5. If green pixel values exist, return True\n",
    "# 6. If green pixel values do not exist, return False & print error message (optional)"
   ]
  },
  {
   "cell_type": "code",
   "execution_count": 16,
   "metadata": {},
   "outputs": [],
   "source": [
    "# function for above algorithm\n",
    "\n",
    "def verify(image_path):\n",
    "    # 1. Read the images using PIL\n",
    "    image = Image.open(image_path)\n",
    "\n",
    "    # 2. Resize the image to 256x256 pixels each using PIL\n",
    "    image = image.resize((256, 256))\n",
    "\n",
    "    # 3. Store pixel values of image in a list using PIL\n",
    "    image_pixels = list(image.getdata())\n",
    "\n",
    "    # 4. Check if green pixel values exist in stored list\n",
    "    green_pixels = [pixel for pixel in image_pixels if pixel[1] > 200]\n",
    "\n",
    "    # 5. If green pixel values exist, return True\n",
    "    if len(green_pixels) > 0:\n",
    "        return True\n",
    "    # 6. If green pixel values do not exist, return False & print error message\n",
    "    else:\n",
    "        return False"
   ]
  },
  {
   "cell_type": "code",
   "execution_count": 18,
   "metadata": {},
   "outputs": [
    {
     "name": "stdout",
     "output_type": "stream",
     "text": [
      "Image 1 has green pixels\n"
     ]
    }
   ],
   "source": [
    "# test the function\n",
    "\n",
    "if verify(image_2):\n",
    "    print('Image 1 has green pixels')\n",
    "else:\n",
    "    print('Image 1 does not have green pixels')"
   ]
  }
 ],
 "metadata": {
  "kernelspec": {
   "display_name": "Python 3.9.12 ('vission')",
   "language": "python",
   "name": "python3"
  },
  "language_info": {
   "codemirror_mode": {
    "name": "ipython",
    "version": 3
   },
   "file_extension": ".py",
   "mimetype": "text/x-python",
   "name": "python",
   "nbconvert_exporter": "python",
   "pygments_lexer": "ipython3",
   "version": "3.9.13"
  },
  "orig_nbformat": 4,
  "vscode": {
   "interpreter": {
    "hash": "49ace6de1c0f11e7f7f207cdafa24e779bf53b1ee97ab795d7e495e72b9e5728"
   }
  }
 },
 "nbformat": 4,
 "nbformat_minor": 2
}
