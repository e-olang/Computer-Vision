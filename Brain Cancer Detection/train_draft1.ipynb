{
  "nbformat": 4,
  "nbformat_minor": 0,
  "metadata": {
    "colab": {
      "name": "prob1.ipynb",
      "provenance": [],
      "mount_file_id": "1VI06zYJtkHIeUtkvND37sL7jgHO14q7F",
      "authorship_tag": "ABX9TyOGRE/Wa9cixZVeYvLFBcVF",
      "include_colab_link": true
    },
    "kernelspec": {
      "name": "python3",
      "display_name": "Python 3"
    },
    "language_info": {
      "name": "python"
    }
  },
  "cells": [
    {
      "cell_type": "markdown",
      "metadata": {
        "id": "view-in-github",
        "colab_type": "text"
      },
      "source": [
        "<a href=\"https://colab.research.google.com/github/e-olang/Computer-Vision/blob/main/Brain%20Cancer%20Detection/train_draft1.ipynb\" target=\"_parent\"><img src=\"https://colab.research.google.com/assets/colab-badge.svg\" alt=\"Open In Colab\"/></a>"
      ]
    },
    {
      "cell_type": "markdown",
      "source": [
        "### Sort Files and Split"
      ],
      "metadata": {
        "id": "fVBNpKLZllO3"
      }
    },
    {
      "cell_type": "code",
      "source": [
        "#data_root_dir = '/content/drive/MyDrive/Colab Notebooks/data/Multi Cancer/Brain Cancer'\n",
        "train_dir = '/content/drive/MyDrive/Colab Notebooks/Cancer/brain cancer/train'\n",
        "test_dir = '/content/drive/MyDrive/Colab Notebooks/Cancer/brain cancer/test'\n",
        "val_dir = '/content/drive/MyDrive/Colab Notebooks/Cancer/brain cancer/val'"
      ],
      "metadata": {
        "id": "GPaqitvEluTZ"
      },
      "execution_count": 9,
      "outputs": []
    },
    {
      "cell_type": "code",
      "execution_count": 2,
      "metadata": {
        "id": "he4AuCxxgJOM"
      },
      "outputs": [],
      "source": [
        "! pip install split-folders -q"
      ]
    },
    {
      "cell_type": "code",
      "source": [
        "import splitfolders"
      ],
      "metadata": {
        "id": "tMwi5vgRxMb5"
      },
      "execution_count": 3,
      "outputs": []
    },
    {
      "cell_type": "code",
      "source": [
        "splitfolders.ratio('/content/drive/MyDrive/Colab Notebooks/data/Multi Cancer/Brain Cancer', output = '/content/drive/MyDrive/Colab Notebooks/Cancer/train', seed = 42, ratio = (.7, .2, .1), group_prefix =None, move = False )"
      ],
      "metadata": {
        "id": "3ME7BVZ6vyq4"
      },
      "execution_count": null,
      "outputs": []
    },
    {
      "cell_type": "markdown",
      "source": [
        "### Imports"
      ],
      "metadata": {
        "id": "tO75P3iZ9J8o"
      }
    },
    {
      "cell_type": "code",
      "source": [
        "import matplotlib.pyplot as plt\n",
        "import numpy as np\n",
        "import os\n",
        "import PIL\n",
        "import tensorflow as tf\n",
        "\n",
        "from tensorflow import keras\n",
        "from tensorflow.keras import layers\n",
        "from tensorflow.keras.models import Sequential"
      ],
      "metadata": {
        "id": "BG6Cxv8q9PcH"
      },
      "execution_count": 8,
      "outputs": []
    },
    {
      "cell_type": "code",
      "source": [
        "import pathlib\n",
        "\n",
        "train_dir = pathlib.Path('/content/drive/MyDrive/Colab Notebooks/Cancer/brain cancer/train')\n",
        "test_dir = pathlib.Path('/content/drive/MyDrive/Colab Notebooks/Cancer/brain cancer/test')\n",
        "val_dir = pathlib.Path('/content/drive/MyDrive/Colab Notebooks/Cancer/brain cancer/val')"
      ],
      "metadata": {
        "id": "BKf_Eby59skc"
      },
      "execution_count": 18,
      "outputs": []
    },
    {
      "cell_type": "code",
      "source": [
        "train_image_count = len(list(train_dir.glob('*/*.jpg')))\n",
        "print(str(train_image_count) + ' Training Images')\n",
        "\n",
        "test_image_count = len(list(test_dir.glob('*/*.jpg')))\n",
        "print(str(test_image_count) + ' Testing Images')\n",
        "\n",
        "val_image_count = len(list(val_dir.glob('*/*.jpg')))\n",
        "print(str(val_image_count) + ' Validation Images')"
      ],
      "metadata": {
        "colab": {
          "base_uri": "https://localhost:8080/"
        },
        "id": "SM9C_JmGE-Hw",
        "outputId": "0c9b23c9-6cbf-4fce-cf62-2cc069e462a2"
      },
      "execution_count": 21,
      "outputs": [
        {
          "output_type": "stream",
          "name": "stdout",
          "text": [
            "10500 Train Images\n",
            "1500 Testing Images\n",
            "3000 Validation Images\n"
          ]
        }
      ]
    },
    {
      "cell_type": "markdown",
      "source": [
        "--------------------------------------------"
      ],
      "metadata": {
        "id": "XovwDgs9FutZ"
      }
    },
    {
      "cell_type": "code",
      "source": [
        "data_dir = pathlib.Path('/content/drive/MyDrive/Colab Notebooks/data/Multi Cancer/Brain Cancer')"
      ],
      "metadata": {
        "id": "XX6QjoCWGKEB"
      },
      "execution_count": null,
      "outputs": []
    },
    {
      "cell_type": "code",
      "source": [
        "batch_size = 32\n",
        "img_height = 180\n",
        "img_width = 180"
      ],
      "metadata": {
        "id": "XiMk9QKaFwL7"
      },
      "execution_count": 22,
      "outputs": []
    },
    {
      "cell_type": "code",
      "source": [
        "train_ds = tf.keras.utils.image_dataset_from_directory(\n",
        "    train_dir,\n",
        "    validation_split=0.1,\n",
        "    subset=\"training\",\n",
        "    seed=123,\n",
        "    image_size=(img_height, img_width),\n",
        "    batch_size=batch_size)"
      ],
      "metadata": {
        "colab": {
          "base_uri": "https://localhost:8080/"
        },
        "id": "BbAHQ-myF9-Z",
        "outputId": "410da1d1-4d6d-4a81-b11d-eead1c64f464"
      },
      "execution_count": 25,
      "outputs": [
        {
          "output_type": "stream",
          "name": "stdout",
          "text": [
            "Found 10500 files belonging to 3 classes.\n",
            "Using 9450 files for training.\n"
          ]
        }
      ]
    },
    {
      "cell_type": "code",
      "source": [
        "val_ds = tf.keras.utils.image_dataset_from_directory(\n",
        "    train_dir,\n",
        "    validation_split=0.1,\n",
        "    subset=\"validation\",\n",
        "    seed=123,\n",
        "    image_size=(img_height, img_width),\n",
        "    batch_size=batch_size)"
      ],
      "metadata": {
        "colab": {
          "base_uri": "https://localhost:8080/"
        },
        "id": "6bF4dT1OG3in",
        "outputId": "54e2cb5d-b7d7-477a-904f-cdde0b58ecd7"
      },
      "execution_count": 26,
      "outputs": [
        {
          "output_type": "stream",
          "name": "stdout",
          "text": [
            "Found 10500 files belonging to 3 classes.\n",
            "Using 1050 files for validation.\n"
          ]
        }
      ]
    }
  ]
}