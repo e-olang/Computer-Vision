{
  "nbformat": 4,
  "nbformat_minor": 0,
  "metadata": {
    "colab": {
      "provenance": [],
      "authorship_tag": "ABX9TyNrli+RM/sGvYuTj954bsMY",
      "include_colab_link": true
    },
    "kernelspec": {
      "name": "python3",
      "display_name": "Python 3"
    },
    "language_info": {
      "name": "python"
    },
    "accelerator": "GPU",
    "widgets": {
      "application/vnd.jupyter.widget-state+json": {
        "b5dd5a8c2d194388b804578165e3569c": {
          "model_module": "@jupyter-widgets/controls",
          "model_name": "HBoxModel",
          "model_module_version": "1.5.0",
          "state": {
            "_dom_classes": [],
            "_model_module": "@jupyter-widgets/controls",
            "_model_module_version": "1.5.0",
            "_model_name": "HBoxModel",
            "_view_count": null,
            "_view_module": "@jupyter-widgets/controls",
            "_view_module_version": "1.5.0",
            "_view_name": "HBoxView",
            "box_style": "",
            "children": [
              "IPY_MODEL_c32ee332479844ef9a793b438af6ddb3",
              "IPY_MODEL_90f800c9d86644d390d29f4188873269",
              "IPY_MODEL_53add26b8b674ecb8de28e1071d59583"
            ],
            "layout": "IPY_MODEL_2717d6e1560d493aafdeec4c8adf92aa"
          }
        },
        "c32ee332479844ef9a793b438af6ddb3": {
          "model_module": "@jupyter-widgets/controls",
          "model_name": "HTMLModel",
          "model_module_version": "1.5.0",
          "state": {
            "_dom_classes": [],
            "_model_module": "@jupyter-widgets/controls",
            "_model_module_version": "1.5.0",
            "_model_name": "HTMLModel",
            "_view_count": null,
            "_view_module": "@jupyter-widgets/controls",
            "_view_module_version": "1.5.0",
            "_view_name": "HTMLView",
            "description": "",
            "description_tooltip": null,
            "layout": "IPY_MODEL_fef822a5683c4fb785bcb45ea777216b",
            "placeholder": "​",
            "style": "IPY_MODEL_fdf24ed107c940988e66467bb287db66",
            "value": ""
          }
        },
        "90f800c9d86644d390d29f4188873269": {
          "model_module": "@jupyter-widgets/controls",
          "model_name": "FloatProgressModel",
          "model_module_version": "1.5.0",
          "state": {
            "_dom_classes": [],
            "_model_module": "@jupyter-widgets/controls",
            "_model_module_version": "1.5.0",
            "_model_name": "FloatProgressModel",
            "_view_count": null,
            "_view_module": "@jupyter-widgets/controls",
            "_view_module_version": "1.5.0",
            "_view_name": "ProgressView",
            "bar_style": "success",
            "description": "",
            "description_tooltip": null,
            "layout": "IPY_MODEL_935b952680c54b8db6b8a7360d1f3262",
            "max": 1,
            "min": 0,
            "orientation": "horizontal",
            "style": "IPY_MODEL_c8be7a38d1204883ad2257f349d96e76",
            "value": 0
          }
        },
        "53add26b8b674ecb8de28e1071d59583": {
          "model_module": "@jupyter-widgets/controls",
          "model_name": "HTMLModel",
          "model_module_version": "1.5.0",
          "state": {
            "_dom_classes": [],
            "_model_module": "@jupyter-widgets/controls",
            "_model_module_version": "1.5.0",
            "_model_name": "HTMLModel",
            "_view_count": null,
            "_view_module": "@jupyter-widgets/controls",
            "_view_module_version": "1.5.0",
            "_view_name": "HTMLView",
            "description": "",
            "description_tooltip": null,
            "layout": "IPY_MODEL_bcc8bcc15d99407286b835178e5d0bf8",
            "placeholder": "​",
            "style": "IPY_MODEL_29d86c6a01fe47b294a51934dc529cce",
            "value": " 0/0 [00:00&lt;?, ?it/s]"
          }
        },
        "2717d6e1560d493aafdeec4c8adf92aa": {
          "model_module": "@jupyter-widgets/base",
          "model_name": "LayoutModel",
          "model_module_version": "1.2.0",
          "state": {
            "_model_module": "@jupyter-widgets/base",
            "_model_module_version": "1.2.0",
            "_model_name": "LayoutModel",
            "_view_count": null,
            "_view_module": "@jupyter-widgets/base",
            "_view_module_version": "1.2.0",
            "_view_name": "LayoutView",
            "align_content": null,
            "align_items": null,
            "align_self": null,
            "border": null,
            "bottom": null,
            "display": null,
            "flex": null,
            "flex_flow": null,
            "grid_area": null,
            "grid_auto_columns": null,
            "grid_auto_flow": null,
            "grid_auto_rows": null,
            "grid_column": null,
            "grid_gap": null,
            "grid_row": null,
            "grid_template_areas": null,
            "grid_template_columns": null,
            "grid_template_rows": null,
            "height": null,
            "justify_content": null,
            "justify_items": null,
            "left": null,
            "margin": null,
            "max_height": null,
            "max_width": null,
            "min_height": null,
            "min_width": null,
            "object_fit": null,
            "object_position": null,
            "order": null,
            "overflow": null,
            "overflow_x": null,
            "overflow_y": null,
            "padding": null,
            "right": null,
            "top": null,
            "visibility": null,
            "width": null
          }
        },
        "fef822a5683c4fb785bcb45ea777216b": {
          "model_module": "@jupyter-widgets/base",
          "model_name": "LayoutModel",
          "model_module_version": "1.2.0",
          "state": {
            "_model_module": "@jupyter-widgets/base",
            "_model_module_version": "1.2.0",
            "_model_name": "LayoutModel",
            "_view_count": null,
            "_view_module": "@jupyter-widgets/base",
            "_view_module_version": "1.2.0",
            "_view_name": "LayoutView",
            "align_content": null,
            "align_items": null,
            "align_self": null,
            "border": null,
            "bottom": null,
            "display": null,
            "flex": null,
            "flex_flow": null,
            "grid_area": null,
            "grid_auto_columns": null,
            "grid_auto_flow": null,
            "grid_auto_rows": null,
            "grid_column": null,
            "grid_gap": null,
            "grid_row": null,
            "grid_template_areas": null,
            "grid_template_columns": null,
            "grid_template_rows": null,
            "height": null,
            "justify_content": null,
            "justify_items": null,
            "left": null,
            "margin": null,
            "max_height": null,
            "max_width": null,
            "min_height": null,
            "min_width": null,
            "object_fit": null,
            "object_position": null,
            "order": null,
            "overflow": null,
            "overflow_x": null,
            "overflow_y": null,
            "padding": null,
            "right": null,
            "top": null,
            "visibility": null,
            "width": null
          }
        },
        "fdf24ed107c940988e66467bb287db66": {
          "model_module": "@jupyter-widgets/controls",
          "model_name": "DescriptionStyleModel",
          "model_module_version": "1.5.0",
          "state": {
            "_model_module": "@jupyter-widgets/controls",
            "_model_module_version": "1.5.0",
            "_model_name": "DescriptionStyleModel",
            "_view_count": null,
            "_view_module": "@jupyter-widgets/base",
            "_view_module_version": "1.2.0",
            "_view_name": "StyleView",
            "description_width": ""
          }
        },
        "935b952680c54b8db6b8a7360d1f3262": {
          "model_module": "@jupyter-widgets/base",
          "model_name": "LayoutModel",
          "model_module_version": "1.2.0",
          "state": {
            "_model_module": "@jupyter-widgets/base",
            "_model_module_version": "1.2.0",
            "_model_name": "LayoutModel",
            "_view_count": null,
            "_view_module": "@jupyter-widgets/base",
            "_view_module_version": "1.2.0",
            "_view_name": "LayoutView",
            "align_content": null,
            "align_items": null,
            "align_self": null,
            "border": null,
            "bottom": null,
            "display": null,
            "flex": null,
            "flex_flow": null,
            "grid_area": null,
            "grid_auto_columns": null,
            "grid_auto_flow": null,
            "grid_auto_rows": null,
            "grid_column": null,
            "grid_gap": null,
            "grid_row": null,
            "grid_template_areas": null,
            "grid_template_columns": null,
            "grid_template_rows": null,
            "height": null,
            "justify_content": null,
            "justify_items": null,
            "left": null,
            "margin": null,
            "max_height": null,
            "max_width": null,
            "min_height": null,
            "min_width": null,
            "object_fit": null,
            "object_position": null,
            "order": null,
            "overflow": null,
            "overflow_x": null,
            "overflow_y": null,
            "padding": null,
            "right": null,
            "top": null,
            "visibility": null,
            "width": "20px"
          }
        },
        "c8be7a38d1204883ad2257f349d96e76": {
          "model_module": "@jupyter-widgets/controls",
          "model_name": "ProgressStyleModel",
          "model_module_version": "1.5.0",
          "state": {
            "_model_module": "@jupyter-widgets/controls",
            "_model_module_version": "1.5.0",
            "_model_name": "ProgressStyleModel",
            "_view_count": null,
            "_view_module": "@jupyter-widgets/base",
            "_view_module_version": "1.2.0",
            "_view_name": "StyleView",
            "bar_color": null,
            "description_width": ""
          }
        },
        "bcc8bcc15d99407286b835178e5d0bf8": {
          "model_module": "@jupyter-widgets/base",
          "model_name": "LayoutModel",
          "model_module_version": "1.2.0",
          "state": {
            "_model_module": "@jupyter-widgets/base",
            "_model_module_version": "1.2.0",
            "_model_name": "LayoutModel",
            "_view_count": null,
            "_view_module": "@jupyter-widgets/base",
            "_view_module_version": "1.2.0",
            "_view_name": "LayoutView",
            "align_content": null,
            "align_items": null,
            "align_self": null,
            "border": null,
            "bottom": null,
            "display": null,
            "flex": null,
            "flex_flow": null,
            "grid_area": null,
            "grid_auto_columns": null,
            "grid_auto_flow": null,
            "grid_auto_rows": null,
            "grid_column": null,
            "grid_gap": null,
            "grid_row": null,
            "grid_template_areas": null,
            "grid_template_columns": null,
            "grid_template_rows": null,
            "height": null,
            "justify_content": null,
            "justify_items": null,
            "left": null,
            "margin": null,
            "max_height": null,
            "max_width": null,
            "min_height": null,
            "min_width": null,
            "object_fit": null,
            "object_position": null,
            "order": null,
            "overflow": null,
            "overflow_x": null,
            "overflow_y": null,
            "padding": null,
            "right": null,
            "top": null,
            "visibility": null,
            "width": null
          }
        },
        "29d86c6a01fe47b294a51934dc529cce": {
          "model_module": "@jupyter-widgets/controls",
          "model_name": "DescriptionStyleModel",
          "model_module_version": "1.5.0",
          "state": {
            "_model_module": "@jupyter-widgets/controls",
            "_model_module_version": "1.5.0",
            "_model_name": "DescriptionStyleModel",
            "_view_count": null,
            "_view_module": "@jupyter-widgets/base",
            "_view_module_version": "1.2.0",
            "_view_name": "StyleView",
            "description_width": ""
          }
        }
      }
    }
  },
  "cells": [
    {
      "cell_type": "markdown",
      "metadata": {
        "id": "view-in-github",
        "colab_type": "text"
      },
      "source": [
        "<a href=\"https://colab.research.google.com/github/e-olang/Computer-Vision/blob/main/OpenAi/Whisper_ASR.ipynb\" target=\"_parent\"><img src=\"https://colab.research.google.com/assets/colab-badge.svg\" alt=\"Open In Colab\"/></a>"
      ]
    },
    {
      "cell_type": "code",
      "source": [
        "# installs\n",
        "\n",
        "!pip3 install pytube -q         # any other alt, wiill work, chosse what works best for you\n",
        "!pip install git+https://github.com/openai/whisper.git -q\n",
        "!pip install gradio -q"
      ],
      "metadata": {
        "id": "kE3SULwK4nha"
      },
      "execution_count": null,
      "outputs": []
    },
    {
      "cell_type": "code",
      "source": [
        "import whisper\n",
        "from pytube import YouTube\n",
        "import os\n",
        "import gradio as gr"
      ],
      "metadata": {
        "colab": {
          "base_uri": "https://localhost:8080/",
          "height": 105,
          "referenced_widgets": [
            "b5dd5a8c2d194388b804578165e3569c",
            "c32ee332479844ef9a793b438af6ddb3",
            "90f800c9d86644d390d29f4188873269",
            "53add26b8b674ecb8de28e1071d59583",
            "2717d6e1560d493aafdeec4c8adf92aa",
            "fef822a5683c4fb785bcb45ea777216b",
            "fdf24ed107c940988e66467bb287db66",
            "935b952680c54b8db6b8a7360d1f3262",
            "c8be7a38d1204883ad2257f349d96e76",
            "bcc8bcc15d99407286b835178e5d0bf8",
            "29d86c6a01fe47b294a51934dc529cce"
          ]
        },
        "id": "VWWbATw3xrxq",
        "outputId": "983119b3-ccf9-4ca8-9eea-45fc72f3dedd"
      },
      "execution_count": 3,
      "outputs": [
        {
          "output_type": "stream",
          "name": "stderr",
          "text": [
            "The cache for model files in Transformers v4.22.0 has been updated. Migrating your old cache. This is a one-time only operation. You can interrupt this and resume the migration later on by calling `transformers.utils.move_cache()`.\n"
          ]
        },
        {
          "output_type": "stream",
          "name": "stdout",
          "text": [
            "Moving 0 files to the new cache system\n"
          ]
        },
        {
          "output_type": "display_data",
          "data": {
            "text/plain": [
              "0it [00:00, ?it/s]"
            ],
            "application/vnd.jupyter.widget-view+json": {
              "version_major": 2,
              "version_minor": 0,
              "model_id": "b5dd5a8c2d194388b804578165e3569c"
            }
          },
          "metadata": {}
        }
      ]
    },
    {
      "cell_type": "code",
      "source": [
        "def yt_audio(link):\n",
        "\tyt = YouTube(str(link))\n",
        "\tvideo = yt.streams.filter(only_audio=True).first()\n",
        "\tdestination = '.'\n",
        "\taudio_file = video.download(output_path=destination)\n",
        "\tbase, ext = os.path.splitext(audio_file)\n",
        "\tnew_file = base + '.mp3'\n",
        "\tos.rename(audio_file, new_file)\n",
        "\t\n",
        "\treturn str(new_file)"
      ],
      "metadata": {
        "id": "REOgRpFr4mjf"
      },
      "execution_count": 4,
      "outputs": []
    },
    {
      "cell_type": "code",
      "source": [
        "model = whisper.load_model('base')"
      ],
      "metadata": {
        "colab": {
          "base_uri": "https://localhost:8080/"
        },
        "id": "tBxP5fH29Dm1",
        "outputId": "f5616c5e-5bd1-444d-f623-8c597299b421"
      },
      "execution_count": 5,
      "outputs": [
        {
          "output_type": "stream",
          "name": "stderr",
          "text": [
            "100%|███████████████████████████████████████| 139M/139M [00:04<00:00, 34.1MiB/s]\n"
          ]
        }
      ]
    },
    {
      "cell_type": "code",
      "source": [
        "sample_file = yt_audio('https://www.youtube.com/watch?v=0Vy7f2yBfuY')"
      ],
      "metadata": {
        "id": "jDIAwrq8Wfvs"
      },
      "execution_count": 6,
      "outputs": []
    },
    {
      "cell_type": "code",
      "source": [
        "sample_file"
      ],
      "metadata": {
        "colab": {
          "base_uri": "https://localhost:8080/",
          "height": 35
        },
        "id": "YDOGz35xWsoe",
        "outputId": "bb216c45-160b-47c3-8b62-d7258c8f2e1c"
      },
      "execution_count": 7,
      "outputs": [
        {
          "output_type": "execute_result",
          "data": {
            "text/plain": [
              "'/content/./Russia holds ‘referendums’ in occupied regions of Ukraine - BBC News.mp3'"
            ],
            "application/vnd.google.colaboratory.intrinsic+json": {
              "type": "string"
            }
          },
          "metadata": {},
          "execution_count": 7
        }
      ]
    },
    {
      "cell_type": "code",
      "source": [
        "sample_transcription = model.transcribe(sample_file)"
      ],
      "metadata": {
        "id": "HlLDMeoQW2AL"
      },
      "execution_count": 8,
      "outputs": []
    },
    {
      "cell_type": "code",
      "source": [
        "from whisper.utils import write_vtt\n",
        "\n",
        "with open('sub.txt', \"w\") as txt:\n",
        "    write_vtt(sample_transcription[\"segments\"], file = txt)"
      ],
      "metadata": {
        "id": "69ZtCcQIXpcy"
      },
      "execution_count": 13,
      "outputs": []
    },
    {
      "cell_type": "code",
      "source": [
        "with open('sub.vtt', \"r\") as txt:\n",
        "    print('\\n'.join(txt.readlines()))"
      ],
      "metadata": {
        "colab": {
          "base_uri": "https://localhost:8080/"
        },
        "id": "lBanj2WSZZ0I",
        "outputId": "9ec19345-ecd9-4457-f8f4-39d5adf6da71"
      },
      "execution_count": 12,
      "outputs": [
        {
          "output_type": "stream",
          "name": "stdout",
          "text": [
            "WEBVTT\n",
            "\n",
            "\n",
            "\n",
            "00:00.000 --> 00:05.760\n",
            "\n",
            " Hello and welcome. Many Russians are trying to leave the country to escape the military mobilization\n",
            "\n",
            "\n",
            "\n",
            "00:05.760 --> 00:11.520\n",
            "\n",
            " announced by Vladimir Putin. Tickets for direct flights between Russia and Serbia have sold\n",
            "\n",
            "\n",
            "\n",
            "00:11.520 --> 00:17.360\n",
            "\n",
            " out, and there are long queues at a number of border crossings. As Russians leave, Moscow is\n",
            "\n",
            "\n",
            "\n",
            "00:17.360 --> 00:23.200\n",
            "\n",
            " holding self-styled referendums in full contested areas of Ukraine, on whether residents there\n",
            "\n",
            "\n",
            "\n",
            "00:23.200 --> 00:28.800\n",
            "\n",
            " want to join the Russian Federation. The West has described those votes as a sham.\n",
            "\n",
            "\n",
            "\n",
            "00:28.800 --> 00:32.240\n",
            "\n",
            " Here's the U.S. Pentagon press secretary, John Kirby.\n",
            "\n",
            "\n",
            "\n",
            "00:33.120 --> 00:37.520\n",
            "\n",
            " We believe that these will be sham referendums. They won't be legitimate. They certainly won't be\n",
            "\n",
            "\n",
            "\n",
            "00:37.520 --> 00:44.480\n",
            "\n",
            " free or fair. They're designed, they're preordained, to allow Mr. Putin to say, look, this is Russian\n",
            "\n",
            "\n",
            "\n",
            "00:44.480 --> 00:51.360\n",
            "\n",
            " territory. And now, Ukrainian attacks are on the motherland, not on Ukrainian territory, which\n",
            "\n",
            "\n",
            "\n",
            "00:51.360 --> 00:55.920\n",
            "\n",
            " is of course not true. And as you heard Jake Sullivan, our national security adviser, say,\n",
            "\n",
            "\n",
            "\n",
            "00:55.920 --> 01:00.080\n",
            "\n",
            " just today, we're not going to recognize that. And so many other nations around the world aren't\n",
            "\n",
            "\n",
            "\n",
            "01:00.080 --> 01:06.160\n",
            "\n",
            " going to recognize that. This is nothing more than, uh, then, employed by Vladimir Putin, to try to\n",
            "\n",
            "\n",
            "\n",
            "01:06.160 --> 01:13.040\n",
            "\n",
            " gain through some legitimacy, through politics and electoral issues, that which he cannot gain militarily.\n",
            "\n",
            "\n",
            "\n",
            "01:13.040 --> 01:18.320\n",
            "\n",
            " But it's not going to work. No one's going to recognize it. Uh, and what needs to happen is\n",
            "\n",
            "\n",
            "\n",
            "01:18.320 --> 01:20.960\n",
            "\n",
            " Mr. Putin needs to leave Ukraine. He needs to stop this war.\n",
            "\n",
            "\n",
            "\n",
            "01:20.960 --> 01:27.440\n",
            "\n",
            " John Kirby, let's talk to BBC's Hugo Bachega, who's in Kiev. Hugo, just tell us what you're\n",
            "\n",
            "\n",
            "\n",
            "01:27.440 --> 01:32.880\n",
            "\n",
            " hearing from those four regions occupied by Russia, where those votes are beginning. What do we know\n",
            "\n",
            "\n",
            "\n",
            "01:32.880 --> 01:42.080\n",
            "\n",
            " about the process? So, pose have opened a current, uh, these four regions where this so-called\n",
            "\n",
            "\n",
            "\n",
            "01:42.080 --> 01:48.480\n",
            "\n",
            " referendum is being held in the regions of Lohansk and Donjask in the east, also have son and\n",
            "\n",
            "\n",
            "\n",
            "01:48.480 --> 01:55.440\n",
            "\n",
            " Zapurizia in the south. Uh, in Zapurizia, uh, polling officials are going door to door with police\n",
            "\n",
            "\n",
            "\n",
            "01:55.440 --> 02:01.440\n",
            "\n",
            " officers. They say this is a security measure. Uh, but critics say that this is a sign that this\n",
            "\n",
            "\n",
            "\n",
            "02:01.440 --> 02:09.520\n",
            "\n",
            " is a referendum, so-called referendum that is not fair and free. Now officials here say this, uh,\n",
            "\n",
            "\n",
            "\n",
            "02:09.520 --> 02:16.080\n",
            "\n",
            " doesn't have any legitimacy. It has no legal force and, uh, authorities here in Ukraine say that\n",
            "\n",
            "\n",
            "\n",
            "02:16.080 --> 02:22.240\n",
            "\n",
            " this is Russia's response to its, uh, military defeats on the battlefield. For weeks, we've\n",
            "\n",
            "\n",
            "\n",
            "02:22.240 --> 02:28.000\n",
            "\n",
            " been talking about the Ukrainians going ahead with this counteroffensive, reclaiming territory,\n",
            "\n",
            "\n",
            "\n",
            "02:28.000 --> 02:34.400\n",
            "\n",
            " and, uh, the authorities in Kiev, uh, believe that this is the way Moscow is responding to that.\n",
            "\n",
            "\n",
            "\n",
            "02:34.400 --> 02:42.560\n",
            "\n",
            " So, the vote was announced on Tuesday, uh, it begins today and, uh, it will be held until next Tuesday.\n",
            "\n",
            "\n",
            "\n",
            "02:42.560 --> 02:47.200\n",
            "\n",
            " And I think to give you a sense of what we can expect in terms of results today, uh, the Tars\n",
            "\n",
            "\n",
            "\n",
            "02:47.200 --> 02:52.400\n",
            "\n",
            " News Agency, which is the Russian- uh, state news agency, said the polling, uh, a poll that was\n",
            "\n",
            "\n",
            "\n",
            "02:52.400 --> 02:59.360\n",
            "\n",
            " conducted in those regions where this, uh, so-called referendum is being held, suggested that between\n",
            "\n",
            "\n",
            "\n",
            "02:59.360 --> 03:07.120\n",
            "\n",
            " 80 and 90 percent of voters, uh, are in favor of joining Russia. So that gives us a sense of what\n",
            "\n",
            "\n",
            "\n",
            "03:07.120 --> 03:13.200\n",
            "\n",
            " we can expect in terms of the result from the so-called referendum. And the consequences of, uh,\n",
            "\n",
            "\n",
            "\n",
            "03:13.200 --> 03:19.120\n",
            "\n",
            " yes, result, as it's widely expected to be, Hugo, this will enable to Russia- Russia to claim with-\n",
            "\n",
            "\n",
            "\n",
            "03:19.120 --> 03:26.160\n",
            "\n",
            " with no legal justification that these regions are part of Russia and any attacks. On them,\n",
            "\n",
            "\n",
            "\n",
            "03:26.160 --> 03:30.480\n",
            "\n",
            " any fighting against them in- from Ukraine is an attack on Russia itself.\n",
            "\n",
            "\n",
            "\n",
            "03:30.480 --> 03:37.920\n",
            "\n",
            " Exactly. And I think this is the biggest fear here that as a result of the so-called referendum,\n",
            "\n",
            "\n",
            "\n",
            "03:37.920 --> 03:43.520\n",
            "\n",
            " the Russians will say, look, any attack on those areas are now on attack on Russian territory,\n",
            "\n",
            "\n",
            "\n",
            "03:43.520 --> 03:48.880\n",
            "\n",
            " and we're going to react to that. Now, the Ukrainians are saying that, uh, nothing changes. They're\n",
            "\n",
            "\n",
            "\n",
            "03:48.880 --> 03:55.520\n",
            "\n",
            " going ahead with their counteroffensive, that, uh, this, uh, what is happening today has no legal\n",
            "\n",
            "\n",
            "\n",
            "03:55.520 --> 04:02.480\n",
            "\n",
            " basis, and the international community is not recognizing, uh, this so-called referendum as well.\n",
            "\n",
            "\n",
            "\n",
            "04:02.480 --> 04:08.560\n",
            "\n",
            " And remember, the backing 2014, when the Russians, uh, invaded Crimea, the Ukrainian peninsula,\n",
            "\n",
            "\n",
            "\n",
            "04:08.560 --> 04:15.440\n",
            "\n",
            " they also, uh, carried out a- a- a referendum that wasn't, uh, recognized internationally,\n",
            "\n",
            "\n",
            "\n",
            "04:15.440 --> 04:21.200\n",
            "\n",
            " before they annexed, uh, the peninsula. So I think the fear is that this is going to, uh,\n",
            "\n",
            "\n",
            "\n",
            "04:21.200 --> 04:26.480\n",
            "\n",
            " happen again, uh, with these- with parts of these four regions, there are now under Russian\n",
            "\n",
            "\n",
            "\n",
            "04:26.480 --> 04:32.640\n",
            "\n",
            " occupation, that, uh, this so-called referendum is the first step towards annexation of these\n",
            "\n",
            "\n",
            "\n",
            "04:32.640 --> 05:02.480\n",
            "\n",
            " territories by Russia. Hugo, for now, thank you very much. Hugo Bachega in Kiev.\n",
            "\n",
            "\n",
            "\n"
          ]
        }
      ]
    },
    {
      "cell_type": "code",
      "source": [],
      "metadata": {
        "id": "JNjuYl0LYCfY"
      },
      "execution_count": null,
      "outputs": []
    },
    {
      "cell_type": "markdown",
      "source": [
        "------"
      ],
      "metadata": {
        "id": "nho_i4MKYBcQ"
      }
    },
    {
      "cell_type": "code",
      "source": [
        "def file_transcribe(audio):\n",
        "    audio = whisper.load_audio(audio)\n",
        "    audio = whisper.pad_or_trim(audio)\n",
        "\n",
        "    mel = whisper.log_mel_spectrogram(audio).to(model.device)\n",
        "\n",
        "    _, probs = model.detect_language(mel)\n",
        "    #print(f\"Detected Language:  {max(probs, key=probs.get)}\")\n",
        "    options = whisper.DecodingOptions()\n",
        "    result = whisper.decode(model, mel, options)\n",
        "    #print(result.text)\n",
        "    return result.text"
      ],
      "metadata": {
        "id": "-n9IFiXO-Rc0"
      },
      "execution_count": null,
      "outputs": []
    },
    {
      "cell_type": "code",
      "source": [
        "def link_transcribe(link):\n",
        "    audio_path = yt_audio(link)\n",
        "    audio = whisper.load_audio(audio_path)\n",
        "    audio = whisper.pad_or_trim(audio)\n",
        "\n",
        "    mel = whisper.log_mel_spectrogram(audio).to(model.device)\n",
        "\n",
        "    _, probs = model.detect_language(mel)\n",
        "    #print(f\"Detected Language:  {max(probs, key=probs.get)}\")\n",
        "    options = whisper.DecodingOptions()\n",
        "    result = whisper.decode(model, mel, options)\n",
        "    #print(result.text)\n",
        "    return result.text"
      ],
      "metadata": {
        "id": "DS8Zwi_GYllH"
      },
      "execution_count": null,
      "outputs": []
    },
    {
      "cell_type": "code",
      "source": [
        "link_transcribe(\"https://youtu.be/H38HTWLwgDs\")"
      ],
      "metadata": {
        "colab": {
          "base_uri": "https://localhost:8080/",
          "height": 35
        },
        "id": "jCdtDKJABVpo",
        "outputId": "de7217d7-a1de-4fac-9db4-85e4826b1d31"
      },
      "execution_count": null,
      "outputs": [
        {
          "output_type": "execute_result",
          "data": {
            "text/plain": [
              "\"I'm good, I'm feeling alright baby, I'ma have the best fucking night of my life\""
            ],
            "application/vnd.google.colaboratory.intrinsic+json": {
              "type": "string"
            }
          },
          "metadata": {},
          "execution_count": 13
        }
      ]
    },
    {
      "cell_type": "code",
      "source": [
        "gr.Interface(\n",
        "    title = 'OpenAi Whisper',\n",
        "    fn = link_transcribe,\n",
        "    inputs = ['textbox'],\n",
        "    outputs = ['textbox'],\n",
        "    live = True).launch()\n",
        "\n",
        "\n",
        "\n",
        "\"\"\"\n",
        "change input to: '[\n",
        "        gr.inputs.Audio(source=\"microphone\", type = \"filepath\")\n",
        "    ],'\n",
        "to use microphone audio, rem to also change transcription fucntion to 'file_trascribe'\n",
        "\"\"\""
      ],
      "metadata": {
        "colab": {
          "base_uri": "https://localhost:8080/",
          "height": 611
        },
        "id": "o0G7F93pT22o",
        "outputId": "26e5cc90-77ac-4583-a5bd-1ad81f7486c7"
      },
      "execution_count": null,
      "outputs": [
        {
          "output_type": "stream",
          "name": "stdout",
          "text": [
            "Colab notebook detected. To show errors in colab notebook, set `debug=True` in `launch()`\n",
            "Running on public URL: https://28287.gradio.app\n",
            "\n",
            "This share link expires in 72 hours. For free permanent hosting, check out Spaces: https://huggingface.co/spaces\n"
          ]
        },
        {
          "output_type": "display_data",
          "data": {
            "text/plain": [
              "<IPython.core.display.HTML object>"
            ],
            "text/html": [
              "<div><iframe src=\"https://28287.gradio.app\" width=\"900\" height=\"500\" allow=\"autoplay; camera; microphone;\" frameborder=\"0\" allowfullscreen></iframe></div>"
            ]
          },
          "metadata": {}
        },
        {
          "output_type": "execute_result",
          "data": {
            "text/plain": [
              "'\\n\\nchange input to: \\'[\\n        gr.inputs.Audio(source=\"microphone\", type = \"filepath\")\\n    ],\\'\\nto use microphone audio, rem to also change transcription fucntion to \\'file_trascribe\\'\\n'"
            ],
            "application/vnd.google.colaboratory.intrinsic+json": {
              "type": "string"
            }
          },
          "metadata": {},
          "execution_count": 9
        }
      ]
    },
    {
      "cell_type": "markdown",
      "source": [
        "try these links\n",
        "\n",
        "- https://www.youtube.com/watch?v=AOZWb-FUCq0\n",
        "- https://www.youtube.com/watch?v=0Vy7f2yBfuY\n",
        "- https://youtu.be/R4n74b0uzww"
      ],
      "metadata": {
        "id": "lkx6nrTU4kwK"
      }
    }
  ]
}